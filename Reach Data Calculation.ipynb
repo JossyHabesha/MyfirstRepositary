{
 "cells": [
  {
   "cell_type": "code",
   "execution_count": 9,
   "id": "3f381019",
   "metadata": {},
   "outputs": [
    {
     "name": "stdout",
     "output_type": "stream",
     "text": [
      "Defaulting to user installation because normal site-packages is not writeableNote: you may need to restart the kernel to use updated packages.\n",
      "\n",
      "Requirement already satisfied: pandas in c:\\programdata\\anaconda3\\lib\\site-packages (2.0.3)\n",
      "Requirement already satisfied: openpyxl in c:\\programdata\\anaconda3\\lib\\site-packages (3.0.10)\n",
      "Requirement already satisfied: python-dateutil>=2.8.2 in c:\\programdata\\anaconda3\\lib\\site-packages (from pandas) (2.8.2)\n",
      "Requirement already satisfied: pytz>=2020.1 in c:\\programdata\\anaconda3\\lib\\site-packages (from pandas) (2023.3.post1)\n",
      "Requirement already satisfied: tzdata>=2022.1 in c:\\programdata\\anaconda3\\lib\\site-packages (from pandas) (2023.3)\n",
      "Requirement already satisfied: numpy>=1.21.0 in c:\\programdata\\anaconda3\\lib\\site-packages (from pandas) (1.24.3)\n",
      "Requirement already satisfied: et_xmlfile in c:\\programdata\\anaconda3\\lib\\site-packages (from openpyxl) (1.1.0)\n",
      "Requirement already satisfied: six>=1.5 in c:\\programdata\\anaconda3\\lib\\site-packages (from python-dateutil>=2.8.2->pandas) (1.16.0)\n"
     ]
    }
   ],
   "source": [
    "pip install pandas openpyxl"
   ]
  },
  {
   "cell_type": "code",
   "execution_count": 2,
   "id": "0094da92",
   "metadata": {},
   "outputs": [
    {
     "name": "stdout",
     "output_type": "stream",
     "text": [
      "Adjusted Data:\n",
      "[[ 235  237  649  648  854  853]\n",
      " [ 501  546 1384 1493 1822 1965]\n",
      " [ 122  143  336  390  443  513]\n",
      " [ 529  564 1464 1543 1927 2031]\n",
      " [ 421  466 1163 1275 1532 1678]\n",
      " [ 640  710 1769 1942 2328 2556]\n",
      " [ 799  836 2208 2286 2907 3010]\n",
      " [ 575  621 1591 1698 2094 2235]\n",
      " [ 414  455 1145 1245 1507 1639]\n",
      " [ 854  871 2360 2383 3107 3137]\n",
      " [ 396  405 1094 1107 1441 1457]\n",
      " [ 826  974 2285 2663 3008 3506]]\n"
     ]
    }
   ],
   "source": [
    "import numpy as np\n",
    "import pandas as pd\n",
    "import os\n",
    "\n",
    "# Define the path to the Excel file\n",
    "input_file_path = r'D:\\Reach Validation\\correction.xlsx'\n",
    "\n",
    "# Check if the file exists at the specified path\n",
    "if not os.path.exists(input_file_path):\n",
    "    raise FileNotFoundError(f\"The file at {input_file_path} does not exist. Please check the file path and try again.\")\n",
    "\n",
    "# Load the data from the Excel file\n",
    "data_df = pd.read_excel(input_file_path, sheet_name='data')\n",
    "target_df = pd.read_excel(input_file_path, sheet_name='target')\n",
    "\n",
    "# Convert the data from the 'data' sheet to a NumPy array\n",
    "data = data_df.values\n",
    "\n",
    "# Extract headers from the 'data' sheet\n",
    "headers = data_df.columns.tolist()\n",
    "\n",
    "# Convert the target sums from the 'target' sheet to a NumPy array\n",
    "target_sums = target_df.values.flatten()\n",
    "\n",
    "# Calculate the current sum of each column\n",
    "current_sums = np.sum(data, axis=0)\n",
    "\n",
    "# Calculate the ratio for each column\n",
    "ratios = target_sums / current_sums\n",
    "\n",
    "# Adjust the values in the original table\n",
    "adjusted_data = data * ratios\n",
    "\n",
    "# Round the values to the nearest integer\n",
    "adjusted_data = np.round(adjusted_data).astype(int)\n",
    "\n",
    "# Create a DataFrame to save to Excel with the same headers as the input\n",
    "adjusted_df = pd.DataFrame(adjusted_data, columns=headers)\n",
    "\n",
    "# Define the output Excel file path\n",
    "# Extract the folder path from the input file path\n",
    "folder_path = os.path.dirname(input_file_path)\n",
    "# Define the name of the output file\n",
    "output_file_name = 'adjusted_data.xlsx'\n",
    "# Combine folder path and file name to get the full path\n",
    "output_file_path = os.path.join(folder_path, output_file_name)\n",
    "\n",
    "# Save the DataFrame to an Excel file\n",
    "adjusted_df.to_excel(output_file_path, index=False)\n",
    "\n",
    "# Open the Excel file\n",
    "os.startfile(output_file_path)\n",
    "\n",
    "# Output the adjusted data to the console\n",
    "print(\"Adjusted Data:\")\n",
    "print(adjusted_data)"
   ]
  },
  {
   "cell_type": "code",
   "execution_count": null,
   "id": "c5486ce0",
   "metadata": {},
   "outputs": [],
   "source": []
  }
 ],
 "metadata": {
  "kernelspec": {
   "display_name": "Python 3 (ipykernel)",
   "language": "python",
   "name": "python3"
  },
  "language_info": {
   "codemirror_mode": {
    "name": "ipython",
    "version": 3
   },
   "file_extension": ".py",
   "mimetype": "text/x-python",
   "name": "python",
   "nbconvert_exporter": "python",
   "pygments_lexer": "ipython3",
   "version": "3.11.5"
  }
 },
 "nbformat": 4,
 "nbformat_minor": 5
}
